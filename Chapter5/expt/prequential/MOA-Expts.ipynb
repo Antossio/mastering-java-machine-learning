{
 "cells": [
  {
   "cell_type": "code",
   "execution_count": 31,
   "metadata": {
    "collapsed": false
   },
   "outputs": [
    {
     "name": "stdout",
     "output_type": "stream",
     "text": [
      "LazykNN-W100.txt\n",
      "LazykNN-W1000.txt\n",
      "LazykNN-W500.txt\n",
      "LazykNN-W5000.txt\n",
      "LB-HoeffdingTree-W100.txt\n",
      "LB-HoeffdingTree-W1000.txt\n",
      "LB-HoeffdingTree-W500.txt\n",
      "LB-HoeffdingTree-W5000.txt\n",
      "LB-kNN-W100.txt\n",
      "LB-kNN-W1000.txt\n",
      "MOA-Expts.ipynb\n",
      "NaiveBayes-W100.txt\n",
      "NaiveBayes-W1000.txt\n",
      "NaiveBayes-W500.txt\n",
      "NaiveBayes-W5000.txt\n",
      "SGD-W100.txt\n",
      "SGD-W1000.txt\n",
      "SGD-W500.txt\n",
      "SGD-W5000.txt\n"
     ]
    }
   ],
   "source": [
    "import os\n",
    "\n",
    "exptdir = \"C:/home/mmlj/Chapter 05/Expts/Prequential/Test/\"\n",
    "for root, dirs, filenames in os.walk(exptdir):\n",
    "    for f in filenames:\n",
    "        print(f)"
   ]
  },
  {
   "cell_type": "code",
   "execution_count": 32,
   "metadata": {
    "collapsed": false
   },
   "outputs": [
    {
     "data": {
      "text/plain": [
       "['C:/home/mmlj/Chapter 05/Expts/Prequential/Test\\\\LazykNN-W100.txt',\n",
       " 'C:/home/mmlj/Chapter 05/Expts/Prequential/Test\\\\LazykNN-W1000.txt',\n",
       " 'C:/home/mmlj/Chapter 05/Expts/Prequential/Test\\\\LazykNN-W500.txt',\n",
       " 'C:/home/mmlj/Chapter 05/Expts/Prequential/Test\\\\LazykNN-W5000.txt',\n",
       " 'C:/home/mmlj/Chapter 05/Expts/Prequential/Test\\\\LB-HoeffdingTree-W100.txt',\n",
       " 'C:/home/mmlj/Chapter 05/Expts/Prequential/Test\\\\LB-HoeffdingTree-W1000.txt',\n",
       " 'C:/home/mmlj/Chapter 05/Expts/Prequential/Test\\\\LB-HoeffdingTree-W500.txt',\n",
       " 'C:/home/mmlj/Chapter 05/Expts/Prequential/Test\\\\LB-HoeffdingTree-W5000.txt',\n",
       " 'C:/home/mmlj/Chapter 05/Expts/Prequential/Test\\\\LB-kNN-W100.txt',\n",
       " 'C:/home/mmlj/Chapter 05/Expts/Prequential/Test\\\\LB-kNN-W1000.txt',\n",
       " 'C:/home/mmlj/Chapter 05/Expts/Prequential/Test\\\\NaiveBayes-W100.txt',\n",
       " 'C:/home/mmlj/Chapter 05/Expts/Prequential/Test\\\\NaiveBayes-W1000.txt',\n",
       " 'C:/home/mmlj/Chapter 05/Expts/Prequential/Test\\\\NaiveBayes-W500.txt',\n",
       " 'C:/home/mmlj/Chapter 05/Expts/Prequential/Test\\\\NaiveBayes-W5000.txt',\n",
       " 'C:/home/mmlj/Chapter 05/Expts/Prequential/Test\\\\SGD-W100.txt',\n",
       " 'C:/home/mmlj/Chapter 05/Expts/Prequential/Test\\\\SGD-W1000.txt',\n",
       " 'C:/home/mmlj/Chapter 05/Expts/Prequential/Test\\\\SGD-W500.txt',\n",
       " 'C:/home/mmlj/Chapter 05/Expts/Prequential/Test\\\\SGD-W5000.txt']"
      ]
     },
     "execution_count": 32,
     "metadata": {},
     "output_type": "execute_result"
    }
   ],
   "source": [
    "import glob\n",
    "flist = glob.glob(exptdir + '*.txt')\n",
    "flist"
   ]
  },
  {
   "cell_type": "code",
   "execution_count": 13,
   "metadata": {
    "collapsed": false
   },
   "outputs": [
    {
     "name": "stdout",
     "output_type": "stream",
     "text": [
      "learning evaluation instances,evaluation time (cpu seconds),model cost (RAM-Hours),classified instances,classifications correct (percent),Kappa Statistic (percent),Kappa Temporal Statistic (percent),Kappa M Statistic (percent),model training instances,model serialized size (bytes)\n",
      "\n"
     ]
    }
   ],
   "source": [
    "for f in flist:\n",
    "    with open(f, 'r+') as inf:\n",
    "        first_line, remainder = inf.readline(), inf.read()\n",
    "        print (first_line)\n",
    "        "
   ]
  },
  {
   "cell_type": "code",
   "execution_count": 34,
   "metadata": {
    "collapsed": false
   },
   "outputs": [],
   "source": [
    "import fileinput\n",
    "\n",
    "for f in flist:\n",
    "    for line in fileinput.input(f, inplace=True):\n",
    "        if fileinput.isfirstline():\n",
    "            print (\"expt,\",line)\n",
    "        else:\n",
    "            print(os.path.basename(f) + ',',line)"
   ]
  },
  {
   "cell_type": "code",
   "execution_count": 33,
   "metadata": {
    "collapsed": true
   },
   "outputs": [],
   "source": [
    "fileinput.close()"
   ]
  },
  {
   "cell_type": "code",
   "execution_count": 36,
   "metadata": {
    "collapsed": false
   },
   "outputs": [],
   "source": [
    "result = os.path.join(exptdir, \"result.txt\")\n",
    "with open(result, 'w') as out:\n",
    "    for f in flist:\n",
    "        with open(f, 'r+') as inf:\n",
    "            inf.readline();inf.readline();\n",
    "            out.write(inf.readline() + '\\n')\n",
    "\n",
    "    "
   ]
  },
  {
   "cell_type": "code",
   "execution_count": null,
   "metadata": {
    "collapsed": true
   },
   "outputs": [],
   "source": []
  }
 ],
 "metadata": {
  "kernelspec": {
   "display_name": "Python [Root]",
   "language": "python",
   "name": "Python [Root]"
  },
  "language_info": {
   "codemirror_mode": {
    "name": "ipython",
    "version": 3
   },
   "file_extension": ".py",
   "mimetype": "text/x-python",
   "name": "python",
   "nbconvert_exporter": "python",
   "pygments_lexer": "ipython3",
   "version": "3.5.2"
  }
 },
 "nbformat": 4,
 "nbformat_minor": 0
}
